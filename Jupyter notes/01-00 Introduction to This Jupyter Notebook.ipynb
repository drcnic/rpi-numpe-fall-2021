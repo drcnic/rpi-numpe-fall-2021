{
 "cells": [
  {
   "cell_type": "markdown",
   "metadata": {},
   "source": [
    "# Section 1.0:  Introduction to this Jupyter Notebook\n",
    "\n",
    "This box of text is a \"markdown cell\".  We use markdown cells to tell you what to do in the \"code cell\" right below this cell (marked `In [ ]`:).  Code cells allow you to write Python code that you can then execute using the &#91;&#x23ef; Run&#93; button, above.\n",
    "\n",
    "Try it (doing exactly what we write for now):\n",
    " - click somewhere in the next cell (where it shows 'print(\"Hello Python!\")'), and then\n",
    " - click the &#91;&#x23ef; Run&#93; button.\n",
    "\n",
    "You should see an \"Out\" cell appear with the answer.  The out cell is numbered to correspond to the \"In\" cell's number.\n",
    "\n",
    "You will also see that the cursor has moved into the next cell.  Go on reading from that markdown cell."
   ]
  },
  {
   "cell_type": "code",
   "execution_count": null,
   "metadata": {},
   "outputs": [],
   "source": [
    "print(\"Hello Python!\")"
   ]
  },
  {
   "cell_type": "markdown",
   "metadata": {},
   "source": [
    "## The power of a Jupyter Notebook is that you can edit the `In` cell and &#91;&#x23ef; Run&#93; your new code.  Try it below:\n",
    " - Click once in the code cell below (showing \"1+1\") to make it active;\n",
    " - &nbsp; &nbsp; click &#91;&#x23ef; Run&#93; to execute the code.\n",
    " - Now click <u>twice</u> to the right of \"1+1\" to make the cell active and automatically highlight the last character (\"1\");\n",
    " - &nbsp; &nbsp; type \"2\" (without the quotes) to replace the 1 and click &#91;&#x23ef; Run&#93; to get the new answer.\n",
    " - Now click <u>three</u> times to make the cell active and automatically highlight the whole line;\n",
    " - &nbsp; &nbsp; type \"1.1+2.2\" and click &#91;&#x23ef; Run&#93;.  (No, 1.1+2.2=3.3000000000000003 is not a mistake; we'll see why later in this course.)\n",
    "\n",
    "Maybe that's not quite the answer you expected! But is it \"close enough\" for engineering?  This course will help you find out why this happens, and how to decide if it is close enough.\n",
    "\n",
    "Notice that when you click in the same `In` cell and click &#91;&#x23ef; Run&#93; again, the index numbers will increment.  The new result does not necesarily overwrite the previous result.  This will become important later.\n",
    "\n",
    "Notice the symbol to the left of the `In` cell -- the &#x23ef; symbol.  Instead of moving your mouse to the header bar you can click on the run symbol to the side of the cell to run that cell."
   ]
  },
  {
   "cell_type": "code",
   "execution_count": null,
   "metadata": {},
   "outputs": [],
   "source": [
    "1+1"
   ]
  },
  {
   "cell_type": "markdown",
   "metadata": {},
   "source": [
    "In the next `In` cell,\n",
    " - highlight the line (or click three times) in the code cell below (showing the division expression \"3/2\"), delete the cell's contents, and then\n",
    " - type \"1/0\" and &#91;&#x23ef; Run&#93; (and possibly wait a bit) to try to divide by zero.\n",
    "\n",
    "You should get an error message.  &nbsp;The point is that it's ok to make mistakes. &nbsp;Nothing bad happens here. &nbsp;Confusing information, but not bad. &nbsp;From here on feel free to play with your input and try new things, no matter what the lesson tells you to actually do.\n",
    "\n",
    "That said, it is possible that you may cause Jupyter's Python kernel (the part of this notebook that interprets your code) to die. &nbsp;As in dead. &nbsp;Except not always:  it may struggle on as an evil zombie, mixing truth with its lies to confuse the innocent. &nbsp;If you suspect that things are not working correctly, or if you're quite sure you've confused the system to death, go to the menu near the top of this page (the 'top line menu') and select \"Kernel / Restart\" and then confirm the restart. Or select \"Kernel / Restart & Clear Output\" if you really want to clear things up and start fresh. &nbsp;Try these now.\n"
   ]
  },
  {
   "cell_type": "code",
   "execution_count": null,
   "metadata": {},
   "outputs": [],
   "source": [
    "3/2"
   ]
  },
  {
   "cell_type": "markdown",
   "metadata": {},
   "source": [
    "Before you go further into exploring, the \"Help\" menu (in the top line menu) has some items that you might find useful in your journey:\n",
    "<br/>\n",
    "&nbsp; &nbsp; &lowast; User Interface Tour:  a short (2 minute?) tour of some Jupyter Notebook features, some may even be useful to you;\n",
    "<br/>\n",
    "&nbsp; &nbsp; &lowast; Keyboard Shortcuts:  learn that &lt;Shift&gt;+&lt;Enter&gt; is the same as clicking &#91;&#x23ef;  Run&#93; or &#x23ef;, and other key bindings;\n",
    "<br/>\n",
    "&nbsp; &nbsp; &lowast; Python Reference:  tutorial and reference manuals for Python;\n",
    "<br/>\n",
    "&nbsp; &nbsp; &nbsp; &nbsp; and references for NumPy, SciPy, Matplotlib, and SimPy -- Python libraries that we will use later in this course."
   ]
  },
  {
   "cell_type": "code",
   "execution_count": null,
   "metadata": {},
   "outputs": [],
   "source": []
  }
 ],
 "metadata": {
  "kernelspec": {
   "display_name": "Python 3",
   "language": "python",
   "name": "python3"
  },
  "language_info": {
   "codemirror_mode": {
    "name": "ipython",
    "version": 3
   },
   "file_extension": ".py",
   "mimetype": "text/x-python",
   "name": "python",
   "nbconvert_exporter": "python",
   "pygments_lexer": "ipython3",
   "version": "3.8.5"
  }
 },
 "nbformat": 4,
 "nbformat_minor": 2
}
