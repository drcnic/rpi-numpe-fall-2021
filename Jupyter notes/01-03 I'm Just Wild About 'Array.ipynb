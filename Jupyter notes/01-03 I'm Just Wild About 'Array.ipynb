{
 "cells": [
  {
   "cell_type": "markdown",
   "metadata": {},
   "source": [
    "## 1.3:  I'm Just Wild About 'Array"
   ]
  },
  {
   "cell_type": "markdown",
   "metadata": {},
   "source": [
    "<p>I am here to state<br />I'm here to relate<br />To explain <br />And make it plain that: <br />I`m just wild about Arrays (with apologies to Eubie Blake)</p>\n",
    "\n",
    "&mdash; &mdash; &mdash;\n",
    "\n",
    "Maybe you have a loaf of bread.  Maybe that loaf of bread is one item on your grocery list.  Items and lists -- that's how food shopping works.\n",
    "\n",
    "Maybe you have an item of data.  Maybe that's one item in a list of data.  Items and lists -- that's how Python works.\n",
    "\n",
    "Maybe you have a scalar.  Maybe that's one element in a vector.  Scalars and vectors -- that's how mathematics works.\n",
    "\n",
    "Maybe you have a problem to solve.  Maybe that's one problem in a design, analysis, or operations challenge.  That's how an engineering career works.  To better enjoy that career, engineers have found mathematics useful and especially vector and matrix algebra.  To better enjoy repetitive mathematical tasks, engineers have found programming useful.  Python is one of many useful programming languages.   And to better enjoy life, engineering is a good way to put food on your table.\n",
    "\n",
    "This tutorial starts briefly with lists in Python, giving examples that are generally not mathematical but may be useful for presenting data.  It then goes on to NumPy, an add-on package for Python (or Python \"library\") that makes vector and matrix algebra much easier."
   ]
  },
  {
   "cell_type": "markdown",
   "metadata": {},
   "source": [
    "### 1.3.1 Python Lists\n",
    "\n",
    "The notation for a list is to enclose items in square brackets, separated by commas.  These items can be of mixed types, which can be helpful when storing information similar to a database."
   ]
  },
  {
   "cell_type": "code",
   "execution_count": null,
   "metadata": {},
   "outputs": [],
   "source": [
    "food1 = 'bread'\n",
    "food2 = 'cheese'\n",
    "grocery_list = [food1, food2]\n",
    "print(grocery_list)\n",
    "\n",
    "my_grades = [100.0, 100.0, 100.0, 100.0, 100.0]\n",
    "print(my_grades)\n",
    "\n",
    "food_name_cost_quantity = ['flour', 5.99, 2]\n",
    "print(food_name_cost_quantity)"
   ]
  },
  {
   "cell_type": "markdown",
   "metadata": {},
   "source": [
    "We now come to one of many battles in what is known as the \"language wars\".  Suppose someone gives you a list, and you want to refer to one item on that list by its position in the list.  How do you number the items on the list?  In the world we live in, we use the set of <i>natural numbers</i> (&#x2115;) to count, like counting the fingers on our hands:  1, 2, 3,....  In the digital world many people like to instead use the set of <i>whole numbers</i> (&#x1d54e;):  0, 1, 2....<br />\n",
    "<br />\n",
    "Some computer languages insist on starting their indexing from 1 (e.g., COBOL, with it's \"natural language\" style), others insist on starting from 0 (e.g., Python, C, and Java), and a few let you choose whatever integer works best for you to get your work done (e.g., Fortran).  Each system has its partisans who complain, and coerce, often with much acerbity and vitriol.  Our advice is to learn how to deal with both the 1-starting and the 0-starting indexing methods, ignore the pedants, and live a happier life.\n",
    "\n",
    "Python starts counting from 0.  From left to right, the first element of a list is in position 0, the second is in position 1, and so on.  Python uses negative indices to refer to elements from right to left:  the last element is in position -1, the second to last element is in position -2, and so on.\n",
    "\n",
    "Try referring to an element outside the index range and observe that you get an error.\n",
    "\n",
    "Note that an item from a Python list is returned as an item and not a one-item list.  This is the same behavior as in mathematics where extracting an element from a vector gives a scalar and not a 1x1 vector."
   ]
  },
  {
   "cell_type": "code",
   "execution_count": null,
   "metadata": {},
   "outputs": [],
   "source": [
    "grocery_list = ['bread', 'cheese', 'milk']\n",
    "print (grocery_list[0])\n",
    "print (grocery_list[1])\n",
    "print (grocery_list[2])\n",
    "print ('Dairy items: ', grocery_list[-1], grocery_list[-2])\n",
    "print (grocery_list[99999])"
   ]
  },
  {
   "cell_type": "markdown",
   "metadata": {},
   "source": [
    "You can create a new list that is a <i>slice</i> of an existing list by telling Python what index to start from and what index to end <u>before</u> -- up to, but not including the stop index.  Thus, if a list has the digits 0 through 9, we can take slices as follows."
   ]
  },
  {
   "cell_type": "code",
   "execution_count": null,
   "metadata": {},
   "outputs": [],
   "source": [
    "digits = [0, 1, 2, 3, 4, 5, 6, 7, 8, 9]\n",
    "\n",
    "first_five = digits[0:5]\n",
    "print(first_five)\n",
    "\n",
    "last_three = digits[7:10]          # there is no index 10 in `digits`; however, we only slice up to but not including 10\n",
    "print(last_three)\n",
    "\n",
    "two_syllables_item = digits[7]     # an item is an item...\n",
    "two_syllables_list = digits[7:8]   # ...while a slice is a list \n",
    "print(two_syllables_item, \"versus\", two_syllables_list)\n",
    "\n",
    "everything = digits[0:10]\n",
    "print(\"Everything: \",  everything)\n",
    "\n",
    "print()\n",
    "even_digits = digits[0:10:2]  # can you guess what the \":2\" does?\n",
    "print(even_digits)\n",
    "odd_digits  = digits[1:10:2]\n",
    "print(odd_digits)"
   ]
  },
  {
   "cell_type": "markdown",
   "metadata": {},
   "source": [
    "It may seem strange that the \"start\" index is included but the \"stop\" index is not.  This is a consequence of list item indexing starting from 0 and here's how it makes sense in Python.  Suppose the start index is \"a\" and the stop index is \"b\".  Then (for positive values of b and a) there will be \"b-a\" elements in the slice.\n",
    "\n",
    "For example, in the list `digits`, above, there are 10 items in the list:  digits 0 through 9.  Thus, a slice that takes the whole list will start at 0 and stop at just before 10:  items with indices 0 through 9 will be in the list, with 10 - 0 = 10 total items in the slice."
   ]
  },
  {
   "cell_type": "markdown",
   "metadata": {},
   "source": [
    "To review, the slice syntax generally uses one colon but can optionally include a second colon to include a <i>stride</i></br>\n",
    "\n",
    "&emsp; start : stop<br>\n",
    "or<br>\n",
    "&emsp; start : stop : stride<br>\n",
    "\n",
    "<ul>\n",
    "<li>The \"start\" is the index of the first item in the slice.  When a number is not included to the left of the colon, the start defaults to 0.</li>\n",
    "<li>The \"stop\" is the index <u>just after</u> the index of the last item in the slice.  When not included, stop is one more than the last index in the list.</li>\n",
    "<li>The \"stride\" is an optional part of the slice, and is used to successively skip over intervening items.  When not included, the stride defaults to 1 (meaning every item from the start index up to but not including the stop index is in that slice).</li>\n",
    "</ul>\n",
    "\n",
    "This is best understood by trying some examples.\n",
    "\n",
    "0:3 &nbsp;&nbsp; &ensp;- returns a list of items 0, 1, and 2<br />\n",
    "2: &nbsp;&nbsp;&nbsp;&nbsp;    &ensp;- returns a list of all items starting at 2<br />\n",
    "&nbsp; :3 &nbsp;&nbsp; &ensp;- returns a list of all of the items up to (but not including) 3<br />\n",
    "&nbsp; : &nbsp;&nbsp;&nbsp;&nbsp;    &ensp;- returns a list of all items<br />\n",
    "0:5:2  &ensp;- returns a list of items 0, 2, 4<br />\n",
    "0:6:2  &ensp;- also returns a list of items 0, 2, 4 (since the stride skips over 5)<br />\n",
    "&nbsp; :&nbsp; :2  &ensp;- returns a list of every other item starting with item 0<br />\n",
    "&nbsp; :&nbsp; :-1&ensp;- returns the entire list in reverse order<br />"
   ]
  },
  {
   "cell_type": "code",
   "execution_count": null,
   "metadata": {},
   "outputs": [],
   "source": [
    "hawaii_05 = [0, 1, 2, 3, 4, 5]\n",
    "print(hawaii_05[0:3])\n",
    "print(hawaii_05[2: ])   # the space after the colon is not required; it's only used to visually line things up\n",
    "print(hawaii_05[ :3])\n",
    "print(hawaii_05[ : ])\n",
    "print()\n",
    "print(hawaii_05[0:5:2])\n",
    "print(hawaii_05[0:6:2])\n",
    "print(hawaii_05[ : :2])\n",
    "print(hawaii_05[ : :-1])"
   ]
  },
  {
   "cell_type": "markdown",
   "metadata": {},
   "source": [
    "Here's another list to practice extracting items and slices from and to get used to counting from zero."
   ]
  },
  {
   "cell_type": "code",
   "execution_count": null,
   "metadata": {},
   "outputs": [],
   "source": [
    "fingers = [0, 1, 2, 3, 4, 5, 6, 7, 8, 9]\n",
    "print ('Your left pinky comes first, as item', fingers[0])\n",
    "print ('A list of your thumbs: ', fingers[4:6])         # notice that only items 4 and 5 are in the slice, not 6\n",
    "print ('The even indices are', fingers[0:10:2])         # indices, not finger numbers -- a subtle difference\n",
    "print ('The odd indices are', fingers[1::2])            # notice the stop index is implicitly past the end of the list\n",
    "print ('The even indices on the right hand are', fingers[6::2])            # notice that the stop before 10 is implicit\n",
    "print ('The even indices on the right hand are also', fingers[6:9:2])      # still works\n",
    "print ('The fingers in reverse order are', fingers[::-1])\n",
    "print ('The left hand fingers in reverse order are NOT', fingers[0:5:-1])  # can't go from 0 up to 4 going backward\n",
    "print ('All the left hand fingers in reverse order are also NOT', fingers[4:0:-1])   # reversal of start and stop, but no\n",
    "print ('And the left hand fingers in reverse order are still NOT', fingers[4:-1:-1]) # good thinking, but no\n",
    "print ('The left hand fingers in reverse order are', fingers[4::-1])       # you'll get used to it, eventually"
   ]
  },
  {
   "cell_type": "markdown",
   "metadata": {},
   "source": [
    "Now we will learn how to move list elements around (and how not to).\n",
    "\n",
    "US calendars commonly consider Sunday to be the first day of the week, but the International Standards Organization (ISO) defines the first day of the week as Monday.  Use the cell below to try various ways of changing a US list of days of the week into an ISO list, circularly shifted by a day.\n",
    "\n",
    "If you try to be clever (meaning you try to save yourself time and effort instead of just rewriting the list), many of you will find that your first attempts fail because you don't have enough experience to know the peculiarities of how lists work.  For example, you might first try:<br>\n",
    "&emsp; dow_ISO = &#91; dow_US &#91;1:7&#93;, dow_US &#91;0&#93; &#93;<br>\n",
    "But then you'll realize that this is making a list out of a list (the slice is a list) and an item &mdash; perfectly valid, but not what you want.  Note that the first element of dow_ISO is the slice you made -- a list.\n",
    "\n",
    "Then you might try doing it in steps; first shift a slice, and then tack on the item at the end:<br>\n",
    "&emsp; dow_ISO&#91;0:6&#93; = dow_US&#91;1:7&#93;<br>\n",
    "&emsp; dow_ISO&#91;6&#93;   = dow_US&#91;0&#93;<br>\n",
    "But then you get an error.  When you first create the variable dow_ISO it has a length of 6, but then you try to tack on a 7th item (in position 6, counting from 0) and Python doesn't like that.\n",
    "\n",
    "To deal with such problems, Python has what are called <i>methods</i> built into the language, covered next."
   ]
  },
  {
   "cell_type": "code",
   "execution_count": null,
   "metadata": {},
   "outputs": [],
   "source": [
    "dow_US = ['Sunday', 'Monday', 'Tuesday', 'Wednesday', 'Thursday', 'Friday', 'Saturday']\n",
    "\n",
    "dow_ISO = [dow_US[1:7], dow_US[0]]\n",
    "print(dow_US)\n",
    "print(dow_ISO)\n",
    "print()\n",
    "print(\"the first element of dow_ISO is now: \", dow_ISO[0])\n",
    "\n",
    "dow_ISO[0:6] = dow_US[1:7]\n",
    "dow_ISO[6]   = dow_US[0]\n",
    "print(dow_US)\n",
    "print(dow_ISO)"
   ]
  },
  {
   "cell_type": "markdown",
   "metadata": {},
   "source": [
    "### 1.3.2 Python Methods for Lists\n",
    "\n",
    "We start with our previous two-step approach of creating a six item dow_ISO and then trying to put Sunday at the end, but this time we use the `append()` method to extend the six item list to a seven item list and put item 0 ('Sunday') from dow_US into that appended slot.  The syntax for methods is\n",
    "    \n",
    "&emsp; variable.method(argument)\n",
    "\n",
    "or, in this case\n",
    "\n",
    "&emsp; dow_ISO.append(dow_US&#91;0&#93;)\n",
    "\n",
    "to append item 0 of dow_US (that is, 'Sunday') to the end of dow_ISO (to make it the last day of the week).\n",
    "\n",
    "To make the example clearer, we introduce the `len()` function, which gives the number of items in a list -- the \"length\" of the list."
   ]
  },
  {
   "cell_type": "code",
   "execution_count": null,
   "metadata": {},
   "outputs": [],
   "source": [
    "dow_US = ['Sunday', 'Monday', 'Tuesday', 'Wednesday', 'Thursday', 'Friday', 'Saturday']\n",
    "print('dow_US is', len(dow_US), 'items long:')\n",
    "print(dow_US)\n",
    "print()\n",
    "\n",
    "dow_ISO = dow_US[1:7]\n",
    "print('dow_ISO is created as', len(dow_ISO), 'items long:')\n",
    "print(dow_ISO)\n",
    "print()\n",
    "\n",
    "dow_ISO.append(dow_US[0])\n",
    "print('appending to dow_ISO makes it', len(dow_ISO), 'items long:')\n",
    "print(dow_ISO)"
   ]
  },
  {
   "cell_type": "markdown",
   "metadata": {},
   "source": [
    "We could also take a multistep approach by using the `copy()` method to copy dow_US into dow_ISO and then use the `remove()` and `insert()` methods, as shown below.  Observe that the `copy()` method has no arguments, but the (empty) paretheses are still required.  Note that invoking the `remove()` and `insert()` methods is not like invoking a function:\n",
    "\n",
    "&emsp; variable_2 = function(variable_1)\n",
    "\n",
    "but are methods that apply to the variable itself,\n",
    "\n",
    "&emsp; variable_1.method(arguments)\n",
    "\n",
    "After applying a method to a variable the result may be assigned to another variable.  This is what happens when dow_ISO is first created by the statement `dow_ISO = dow_US.copy()`.  First the right side is evaluated by applying the `copy()` method to variable dow_US to create a new list (identical to dow_US) that is held somewhere in memory.  Then those memory locations are assigned the variable name dow_ISO.\n",
    "\n",
    "Assignment operators are not needed to invoke a method.  The generic syntax of `variable.method()` applys the method directly to the variable.  The result may then be assigned to another variable (by the assignment operator, =), or the method may only apply to the original variable, as for the `remove()` and `insert()` methods, as shown below.\n",
    "\n",
    "Note that, for sake of example, 'Sunday' and dow_US&#91;0&#93; are used interchangeably as arguments to `remove()` and `insert()`.  Which use is \"better\" depends on A) what you're trying to do with your program, and B) which one is easier for you and anyone else to read and understand &mdash; not just now, but years from now when you or someone else may have to make changes to your program."
   ]
  },
  {
   "cell_type": "code",
   "execution_count": null,
   "metadata": {},
   "outputs": [],
   "source": [
    "dow_US = ['Sunday', 'Monday', 'Tuesday', 'Wednesday', 'Thursday', 'Friday', 'Saturday']\n",
    "\n",
    "dow_ISO = dow_US.copy()\n",
    "print(dow_ISO)\n",
    "\n",
    "dow_ISO.remove('Sunday')       # removes the argument from all locations in the list\n",
    "print(dow_ISO)\n",
    "\n",
    "dow_ISO.insert(6, dow_US[0])   # inserts the second argument at the position indicated by the first argument\n",
    "print(dow_ISO)"
   ]
  },
  {
   "cell_type": "markdown",
   "metadata": {},
   "source": [
    "Another technique is to again use our previous two-step approach, but first create a properly sized seven element dow_ISO."
   ]
  },
  {
   "cell_type": "code",
   "execution_count": null,
   "metadata": {},
   "outputs": [],
   "source": [
    "dow_US = ['Sunday', 'Monday', 'Tuesday', 'Wednesday', 'Thursday', 'Friday', 'Saturday']\n",
    "\n",
    "dow_ISO = [\"0\", \"1\", \"2\", \"3\", \"4\", \"5\", \"6\"]    # now I'm sure dow_ISO has length 7\n",
    "print(dow_ISO)\n",
    "\n",
    "dow_ISO[0:6] = dow_US[1:7]\n",
    "print(dow_ISO)\n",
    "\n",
    "dow_ISO[6] = dow_US[0]\n",
    "print(dow_ISO)"
   ]
  },
  {
   "cell_type": "markdown",
   "metadata": {},
   "source": [
    "Finally, all of this could also have been done using the string concatenation operator, \"+\", as shown below.\n",
    "\n",
    "Note that we are not trying to concatenate a slice (a list) with the item dow_US&#91;0&#93; (an item), which would be an error.  We concatenate a slice with a slice, though the second slice, dow_US&#91;0:1&#93; has only one item.\n",
    "\n",
    "(Make sure you understand that range 0:1 has length 1; try using the `len()` function some more if you're not sure.)"
   ]
  },
  {
   "cell_type": "code",
   "execution_count": null,
   "metadata": {},
   "outputs": [],
   "source": [
    "dow_US = ['Sunday', 'Monday', 'Tuesday', 'Wednesday', 'Thursday', 'Friday', 'Saturday']\n",
    "dow_ISO = dow_US[1:7] + dow_US[0:1]\n",
    "print(dow_US)\n",
    "print(dow_ISO)"
   ]
  },
  {
   "cell_type": "markdown",
   "metadata": {},
   "source": [
    "### 1.3.3 A serious danger:  assignment versus .copy() versus deepcopy()"
   ]
  },
  {
   "cell_type": "markdown",
   "metadata": {},
   "source": [
    "In a previous cell we created a 7-item dow_ISO by explicitly putting seven items into it.  Why didn't we just assign dow_US to dow_ISO to create a list of the proper size?  The following shows why."
   ]
  },
  {
   "cell_type": "code",
   "execution_count": null,
   "metadata": {},
   "outputs": [],
   "source": [
    "dow_US = ['Sunday', 'Monday', 'Tuesday', 'Wednesday', 'Thursday', 'Friday', 'Saturday']\n",
    "dow_ISO = dow_US    # dow_ISO is created by assignment\n",
    "\n",
    "print(dow_US)\n",
    "print(dow_ISO)\n",
    "print()\n",
    "print(\"Ok, that looks like what we wanted.\")\n",
    "print()\n",
    "\n",
    "# a hacker now messes with dow_ISO, but at least you still have the original dow_US\n",
    "dow_ISO[0] = \"Garbage in\"\n",
    "dow_ISO[1] = \"Garbage out\"\n",
    "dow_ISO[2] = \"dog:  eat homework\"\n",
    "dow_ISO[3:5] = [0, 0]\n",
    "print(dow_US)\n",
    "print(dow_ISO)\n",
    "print()\n",
    "print(\"WHAT HAPPENED TO dow_US!!!???\")"
   ]
  },
  {
   "cell_type": "markdown",
   "metadata": {},
   "source": [
    "The probloem is that, in Python, list assignment assigns a reference to the contents of dow_US, not the actual contents of dow_US.  Thus, when items in dow_ISO are changed, what chages are the items that dow_ISO has a reference to:  the items of dow_US.\n",
    "\n",
    "This is an example of where computer science and engineering clash.  Other than the Computer & Systems Engineers who take Data Structures, most engineers find this assignment-by-reference behavior astonishing.  This behavior makes perfect sense, however, to computer scientists who know how lists are stored in memory, how referencing works, and how computationally expensive it is to make a real copy of something in computer memory versus making a simple reference to the original.  (The details can be learned in CSCI-1200 Data Structures, and more details in CSCI-2500 Computer Organization and ECSE-2610 Computer Components and Operations.)\n",
    "\n",
    "The easy answer for engineers is to remember to use `.copy()` to make a copy of a list (and arrays in general, as we will see).  Alternatively, it turns out that assigning a slice also makes a physical copy, as shown below.\n",
    "\n",
    "The danger is that some time in the future you may have a file with a Terabyte of data that you're trying to process as a list and then you'll really need to think hard about whether you need to wait an hour for the physical copy to be made on your hard drive (if it has enough available memory), or if you can get away with just an assignment-by-reference after all.\n",
    "\n",
    "For our purposes in this course a `.copy()` shallow copy is sufficient.  However, when the entity being copied is a compound object (e.g., a list of lists), a shallow copy works as intended for the primary object but the sub-objects (e.g., the lists inside the primary list) will behave as an assignment-by-reference.  To get a true physical copy of a compound object you need to use the copy.deepcopy() function from the copy library in Python.  If in your future you need to know the difference then either read the manual, learn Data Structures, or hire someone who has done both.  That's how consultants earn the big bucks:  doing things you really don't want to be bothered with."
   ]
  },
  {
   "cell_type": "code",
   "execution_count": null,
   "metadata": {},
   "outputs": [],
   "source": [
    "dow_US = ['Sunday', 'Monday', 'Tuesday', 'Wednesday', 'Thursday', 'Friday', 'Saturday']\n",
    "\n",
    "dow_ISO = dow_US.copy()                # shallow copy\n",
    "dow_ISO[0:2] = [\"*copy*\", \"******\"]\n",
    "print(dow_US)\n",
    "print(dow_ISO)\n",
    "print()\n",
    "print(\"Shallow copy works as intended.\")\n",
    "print()\n",
    "\n",
    "dow_ISO = dow_US[:]                    # slice (makes a shallow copy)\n",
    "dow_ISO[0:2] = [\"*slice*\", \"******\"]\n",
    "print(dow_US)\n",
    "print(dow_ISO)\n",
    "print()\n",
    "print(\"Slice works as intended.\")\n",
    "print()"
   ]
  },
  {
   "cell_type": "markdown",
   "metadata": {},
   "source": [
    "### 1.3.4 There Are More Ways Than One to Skin a Python\n",
    "\n",
    "An important takeaway here is that in programming there are often many ways to do the same thing.  Some may be better, some worse, and language wars have been fought time and again over such differences of fact, opinion, and myth.  It is our strong recommendation for those of you still relatively new to programming to not care a whit about making \"Pythonic\" code.  You are engineers, trying to get work done &ndash; first learn how to get your work done. If, in the future, you have a problem so daunting that it requires optimizing the speed of your code, or a project so complex and enduring that it requires highly maintainable code, you'll know it, and you'll learn what you need to know when you need it.  But for now just try anything, and learn by doing.\n",
    "\n",
    "If you would like a taste of what it is to be \"Pythonic\", then &#91;Run&#93; the code in the next cell to reveal an Easter Egg in Python.  (Note that Guido van Rossum, the inventor of the Python programming language, is Dutch.)"
   ]
  },
  {
   "cell_type": "code",
   "execution_count": null,
   "metadata": {},
   "outputs": [],
   "source": [
    "import this"
   ]
  },
  {
   "cell_type": "markdown",
   "metadata": {},
   "source": [
    "To finish out this introduction to lists, a simple little program is presented to calculate the day of the week and day of the year for any day in the contemporary Gregorian calendar.  It is adapted from &#91;Robertson, J. Douglas.  <i>Remark on Algorithm 398</i>. <u>Communications of the ACM</u>:  Vol. 15, No. 10, p. 918; October 1972&#93;.\n",
    "\n",
    "Note the use of the modulo operator, `%`.  x % y gives the remainder of the division of x by y:  x/y.  The integer division operator, `//`, is also used, where x // y gives the mathematical floor of x/y (which is x/y rounded toward negative infinity).\n",
    "\n",
    "Also note the use of the continuaton character &mdash; the backslash at the end of a line.  This allows a statement to span multiple lines.\n",
    "\n",
    "This program uses one of many different algorithms for computing the day of the week and the day of the year, some of which go back centuries.  Some are simpler than this, others seem even more impenetrable in their twisted logic.  Programming is problem solving using algorithms, but like all problem solving it is an art and a science, with many paths to the same goal.  Some easier, and some fraught with danger.  Experience is the best guide to help you know the difference, so be sure to not just review what you learn here, but practice it.  Challenge yourself to understand how other programs work, and experiment by writing your own variations."
   ]
  },
  {
   "cell_type": "code",
   "execution_count": null,
   "metadata": {},
   "outputs": [],
   "source": [
    "# This code returns the day, date, and day of the year given a\n",
    "# numerical date\n",
    "#    year (4 digit), month (1-12), day (1-31)\n",
    "# as input.\n",
    "#\n",
    "# Adapted from [Robertson, J. Douglas.  \"Remark on Algorithm 398\"\n",
    "# Communications of the ACM:  Vol. 15, No. 10, p. 918; October 1972].\n",
    "#\n",
    "# Note that invalid days are allowed (e.g., 0000/99/99, 31 February,\n",
    "# etc.) and will be assigned a weekday and day of the year.  All error\n",
    "# checking must be performed by the user.\n",
    "#\n",
    "\n",
    "dow_ISO = ['Monday', 'Tuesday', 'Wednesday', 'Thursday', 'Friday', 'Saturday', 'Sunday']\n",
    "\n",
    "months  = ['January', 'February', 'March', 'April', 'May', 'June',           \\\n",
    "           'July', 'August', 'September', 'October', 'November', 'December']\n",
    "\n",
    "year  = 2000\n",
    "month =    1\n",
    "day   =    1\n",
    "\n",
    "dow = ( ( (13*(month + 10 - (month+10)//13*12) - 1)//5             \\\n",
    "           + day                                                   \\\n",
    "           + 77                                                    \\\n",
    "           + 5 *  (year + (month-14)//12                           \\\n",
    "                - (year + (month-14)//12)//100 * 100)//4           \\\n",
    "           +      (year + (month-14)//12)//400                     \\\n",
    "           -      (year + (month-14)//12)//100 * 2       ) % 7 )\n",
    "\n",
    "doy = 3055 * (month+2)//100  -  (month+10)//13 * 2  -  91          \\\n",
    "         + (1  -  ((year %   4) +   3)  //   4                     \\\n",
    "               +  ((year % 100) +  99)  // 100                     \\\n",
    "               -  ((year % 400) + 399)  // 400) * (month+10)//13   \\\n",
    "         + day\n",
    "\n",
    "print()\n",
    "print('The date is', dow_ISO[dow], day, months[month-1], year, \"-- day\", doy, \"in that year.\")\n",
    "print()"
   ]
  },
  {
   "cell_type": "code",
   "execution_count": null,
   "metadata": {},
   "outputs": [],
   "source": []
  }
 ],
 "metadata": {
  "kernelspec": {
   "display_name": "Python 3",
   "language": "python",
   "name": "python3"
  },
  "language_info": {
   "codemirror_mode": {
    "name": "ipython",
    "version": 3
   },
   "file_extension": ".py",
   "mimetype": "text/x-python",
   "name": "python",
   "nbconvert_exporter": "python",
   "pygments_lexer": "ipython3",
   "version": "3.8.5"
  }
 },
 "nbformat": 4,
 "nbformat_minor": 2
}
