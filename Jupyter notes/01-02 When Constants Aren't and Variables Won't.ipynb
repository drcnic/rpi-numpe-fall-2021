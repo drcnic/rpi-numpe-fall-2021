{
 "cells": [
  {
   "cell_type": "markdown",
   "metadata": {},
   "source": [
    "## 1.2:  When Constants Aren't and Variables Won't\n",
    "\n",
    "### 1.2.1  variable names"
   ]
  },
  {
   "cell_type": "markdown",
   "metadata": {},
   "source": [
    "Simple old calculators usually have a memory button, labeled M.  Python can also store a number, as shown in the next cell.  However, if you &#91;Run&#93; the cell nothing will happen.  You just have to trust that M = 5 (or whatever you set it to)."
   ]
  },
  {
   "cell_type": "code",
   "execution_count": null,
   "metadata": {},
   "outputs": [],
   "source": [
    "M = 5"
   ]
  },
  {
   "cell_type": "markdown",
   "metadata": {},
   "source": [
    "If you add a second line with just M, Python will display the contents of M."
   ]
  },
  {
   "cell_type": "code",
   "execution_count": null,
   "metadata": {},
   "outputs": [],
   "source": [
    "M = 6\n",
    "M"
   ]
  },
  {
   "cell_type": "markdown",
   "metadata": {},
   "source": [
    "M is called a variable name.  In Python you can use a variety of variable names."
   ]
  },
  {
   "cell_type": "code",
   "execution_count": null,
   "metadata": {},
   "outputs": [],
   "source": [
    "A = 1.234\n",
    "A"
   ]
  },
  {
   "cell_type": "markdown",
   "metadata": {},
   "source": [
    "However, the Python interpreter will only display the last thing you ask for."
   ]
  },
  {
   "cell_type": "code",
   "execution_count": null,
   "metadata": {},
   "outputs": [],
   "source": [
    "A = 1\n",
    "A\n",
    "B = 2\n",
    "B\n",
    "_a_very_long_and_inconvenient_variable_name_ = 3\n",
    "_a_very_long_and_inconvenient_variable_name_"
   ]
  },
  {
   "cell_type": "markdown",
   "metadata": {},
   "source": [
    "Simple old calculators use a \"memory recall\" button, usually labeled MR, to display what's in memory.\n",
    "\n",
    "Python can show you that it knows how to recall things from memory by \"printing\" them to the screen using the `print` function."
   ]
  },
  {
   "cell_type": "code",
   "execution_count": null,
   "metadata": {},
   "outputs": [],
   "source": [
    "A = 1\n",
    "print(A)\n",
    "B = 2\n",
    "print(B)\n",
    "_a_very_long_and_inconvenient_variable_name_ = 3\n",
    "print(_a_very_long_and_inconvenient_variable_name_)"
   ]
  },
  {
   "cell_type": "markdown",
   "metadata": {},
   "source": [
    "Variable names must meet the following requirements:\n",
    " - variable names must start with a letter or an underscore;\n",
    " - variable names can contain letters, numbers, and underscores, but no dashes or other punctuation;\n",
    " - letters are case sensitive;\n",
    " - variable names cannot be from a list of reserved words (discussed below).\n",
    " \n",
    "In the code cell notice the extended use of the print function to display multiple items, separated by a comma.  Note also that Python functions are case sensitive, so\n",
    " - print(A) will give you what you expect, while\n",
    " - Print(A) will not.\n",
    " \n",
    "Decades of quality assurance research suggests that case-sensitive programming languages are a bad idea.  But too many language developers are more interested in being cute, or leet, or fire, and don't care if you get pwnd or rekd.  So be forewarned:  even the best programmers make case sensitivity errors, and these can easily ruin your day.  Some computer scientists will counter that the proper use of a good IDE will save you from such errors.  Ask these scientists to show you any peer-reviewed data that supports their hypothesis."
   ]
  },
  {
   "cell_type": "code",
   "execution_count": null,
   "metadata": {},
   "outputs": [],
   "source": [
    "Agent99 = 99\n",
    "agent99 = -1.0\n",
    "print(agent99, Agent99)"
   ]
  },
  {
   "cell_type": "markdown",
   "metadata": {},
   "source": [
    "Compiled languages read all of your code and process it as a whole.  This allows the compiler to distinguish between, e.g., variable names and function names by context.  Thus, code like<br />\n",
    " &nbsp; &nbsp; print = 5<br />\n",
    " &nbsp; &nbsp; print(print)<br />\n",
    "could work perfectly well in a compiled language.  Python will tolerate using \"print\" as a variable name, but at the expense of making the print function unusable from then on.  Avoid this form of what is called \"namespace pollution\".\n",
    "\n",
    "However, there are other words in Python -- \"reserved words\" -- that cannot ever be used as variable names.  As an interpreted computer language Python needs to reserve certain keywords so it doesn't get confused while interpreting what you write line by line.  These 33 reserved words are:\n",
    " - False, None, True (note the upper case first character in these three),\n",
    " - and, as, assert, break, class, continue, def, del, elif, else, except, finally, for, from, global, if, import, in, is, lambda, nonlocal, not, or, pass, raise, return, try, while, with, yield\n",
    "\n",
    "As an aside, just because a compiled language could eliminate reserved words doesn't mean people wrote them that way.  The computer language Fortran, and later Algol and PL/1, have no reserved words because they were written by people and for people just trying to get work done and who may not remember details that are a small and infrequent part of their job.  Most other compiled languages have between dozens and hundreds of reserved words.  Again, some computer scientists counter that a good IDE color-codes reserved words so you know to not use them as variable or function names.  Ask them if they would prefer to live next to a cyanide factory that has a lovely safety system added to it, or a cyanide factory that was designed from the start to be inherently safe.\n",
    "\n",
    "In the example below, notice how the # character can be used to add a comment to the code.  The symbol # and everything after it on a line is ignored by the Python interpreter.  Heed the comment well:  <b>If you run this cell be sure to afterwords select \"Kernel / Restart\" from the top line menu.  Otherwise you will find that `print` is now a variable of type integer and no longer a function that you can call to put text on the screen.</b>"
   ]
  },
  {
   "cell_type": "code",
   "execution_count": null,
   "metadata": {},
   "outputs": [],
   "source": [
    "# If you run this cell be sure to afterwords select \"Kernel / Restart\" from the top line menu.\n",
    "# Otherwise you will find that `print` is now a variable of type integer and no longer a function\n",
    "# that you can call to put text on the screen.\n",
    "print = 5\n",
    "print(print)"
   ]
  },
  {
   "cell_type": "markdown",
   "metadata": {},
   "source": [
    "### 1.2.2 variable type"
   ]
  },
  {
   "cell_type": "markdown",
   "metadata": {},
   "source": [
    "Variables in Python can be used and reused to store many <b><i>types</i></b> of things:  integers (<b><i>ints</i></b>), real numbers (<b><i>floats</i></b>), even sequences of characters (<b><i>strings</i></b>).  Strings are enclosed in single or double quotation marks, with a few gotcha's that we'll deal with in a future Jupyter Notebook -- don't try setting X = 'don't' and expect it to work (of course go ahead and try it anyway and see what happens).\n",
    "\n",
    "Reusing a variable may seem like a mathematical contradiction:  how can one say X = 3 and X = 99.999?  First, these two statements are not true simultaneously:  X is 3, and later it changes to 99.999.  Second, your Python statements are not mathematical assertions in some kind of proof.  They are simply steps in an algorithm that gets something done."
   ]
  },
  {
   "cell_type": "code",
   "execution_count": null,
   "metadata": {},
   "outputs": [],
   "source": [
    "X = 4\n",
    "print(X)\n",
    "\n",
    "X = 99.999\n",
    "print(X)\n",
    "\n",
    "X = 'Hello Python!'\n",
    "print(X)"
   ]
  },
  {
   "cell_type": "markdown",
   "metadata": {},
   "source": [
    "### 1.2.3 variable assignment"
   ]
  },
  {
   "cell_type": "markdown",
   "metadata": {},
   "source": [
    "Instead of thinking about X = 1 as a mathematical expression, think of the equal sign as an <i>assignment operator</i>.  This is a binary operator that takes the value on the right and stores it with the name on the left.\n",
    "\n",
    "The value on the right does not have to be a simple number.  It can be a mathematical expression.  Python first computes the expression on the right and then assigns it to the variable name on the left.\n",
    "\n",
    "Again notice the `#` character can be used to add a comment.  This time it is an \"inline\" comment, placed after a statement to be executed.  Again, the # character and everything after it on the line is ignored by the Python interpreter.\n",
    "\n",
    "Note that even though the division results in an int, division using the `/` operator results in a float."
   ]
  },
  {
   "cell_type": "code",
   "execution_count": null,
   "metadata": {},
   "outputs": [],
   "source": [
    "sum10 = 1 + 2 + 3 + 4 + 5 + 6 + 7 + 8 + 9 + 10   # sum integers from 1 to n where n = 10\n",
    "check = 10 * (10 + 1) / 2                        # Gauss's formula for the sum is n(n+1)/2\n",
    "print(sum10, check)"
   ]
  },
  {
   "cell_type": "markdown",
   "metadata": {},
   "source": [
    "Changing a variable does not change other variables defined earlier using the changed variable.  The assignment operator is specific to the variable on the left side."
   ]
  },
  {
   "cell_type": "code",
   "execution_count": null,
   "metadata": {},
   "outputs": [],
   "source": [
    "x  = 5.0\n",
    "x2 = x**2\n",
    "print(x, x2)\n",
    "\n",
    "x  = 0.0\n",
    "print(x, x2)  # what do you think x2 is equal to?"
   ]
  },
  {
   "cell_type": "markdown",
   "metadata": {},
   "source": [
    "Furthermore, the same variable can be used on the left and right side of the assignment operator.  The right side is evaluated first (somewhere else in the computer memory), and the result is then assigned to the left side."
   ]
  },
  {
   "cell_type": "code",
   "execution_count": null,
   "metadata": {},
   "outputs": [],
   "source": [
    "x2 = 5.0\n",
    "print(\"At first x2 is\", x2)\n",
    "x2 = x2**2\n",
    "print(\"And now x2 is\", x2)"
   ]
  },
  {
   "cell_type": "markdown",
   "metadata": {},
   "source": [
    "This is useful for incrementing a variable, e.g., to count something.  (We will learn a better method for making this table in a future topic on \"loops\" in Python.)"
   ]
  },
  {
   "cell_type": "code",
   "execution_count": null,
   "metadata": {},
   "outputs": [],
   "source": [
    "print(\"List of Squares\")\n",
    "i = 1\n",
    "i2 = i**2\n",
    "print(i, i2)\n",
    "\n",
    "i = i + 1\n",
    "i2 = i**2\n",
    "print(i, i2)\n",
    "\n",
    "i = i + 1\n",
    "i2 = i**2\n",
    "print(i, i2)"
   ]
  },
  {
   "cell_type": "markdown",
   "metadata": {},
   "source": [
    "In review, the key point to understand is that the \"=\" sign means assign the right-hand-side resulting value to the left-hand-side variable; it is the <b><i>assignment operator</i></b> (and not a statement about mathematical equality).\n",
    "\n",
    "To avoid statements like x = x+1 you can instead use <b><i>compound operators</i></b> (also known as combined operators).  Compound operators are useful when the same variable appears on both sides of a basic assignment.<br />\n",
    "<br />\n",
    "Compound operators have a math operator <u>and</u> an assignment operator, e.g. +=, -=, &ast;&ast;=.  Try the following sequence and see if you can predict the result of each step.  Think carefully about the last one with the compound division operator.<br />\n",
    "<dl>\n",
    "    <dd>x  = 1</dd>\n",
    "    <dd>x += 2 &nbsp; &nbsp; &nbsp; # after this x = 3</dd>\n",
    "    <dd>x -= 1</dd>\n",
    "    <dd>x &ast;= 2 &nbsp; &nbsp; &nbsp; # after this x = 4 </dd>\n",
    "    <dd>x /= 2</dd>\n",
    "</dl>\n",
    "The evaluation order for combined operators is as follows:\n",
    "<ol>\n",
    "    <li>evaluate the expression on the right side</li>\n",
    "    <li>apply the binary arithmetic operator found in the compound operator to 1) the evaluated right side and 2) the current value of the left side variable</li>\n",
    "    <li>assign the result to the variable on the left side</li>\n",
    "    <ol>\n"
   ]
  },
  {
   "cell_type": "code",
   "execution_count": null,
   "metadata": {},
   "outputs": [],
   "source": [
    "x  = 1\n",
    "print(x)"
   ]
  },
  {
   "cell_type": "markdown",
   "metadata": {},
   "source": [
    "You can even assign multiple variables on the same line.  However, <u>just because you can doesn't mean you should</u>.<br />\n",
    "<br />\n",
    "Again, the expressions to the right of the assignment are evaluated first.<br />\n",
    "&nbsp; • The set of expressions on the right are evaluated left to right.<br />\n",
    "&nbsp; • Do not overuse this syntax, as it can be harder to read."
   ]
  },
  {
   "cell_type": "code",
   "execution_count": null,
   "metadata": {},
   "outputs": [],
   "source": [
    "position, velocity, acceleration = 2.0, 0.0, -9.8\n",
    "\n",
    "print(position, velocity, acceleration)"
   ]
  },
  {
   "cell_type": "markdown",
   "metadata": {},
   "source": [
    "Python stores certain commonly used constants in conventient variable names.  These can be accessed by importing them from various libraries, like the <i>math</i> library.  The details of importing will be covered later; below are some examples.  Note the serious danger illustrated in the last example."
   ]
  },
  {
   "cell_type": "code",
   "execution_count": null,
   "metadata": {},
   "outputs": [],
   "source": [
    "from math import pi, e\n",
    "print(\"pi =\", pi)\n",
    "print(\"e  =\", e)\n",
    "print()             # this prints a blank line to improve readability\n",
    "\n",
    "print(\"e to the pi times i should equal minus one:\", e**(pi*1j) )     # at least it's close to -1, if you look carefully\n",
    "print()\n",
    "\n",
    "pi = 3              # uh, hold on there...\n",
    "print(\"pi =\", pi)   # Danger, Will Robinson!\n",
    "from math import pi # this re-imports pi from the math library\n",
    "print(\"pi =\", pi)   # is this like messing with the space-time continuum?"
   ]
  },
  {
   "cell_type": "markdown",
   "metadata": {},
   "source": [
    "### 1.2.4  using variables in a program"
   ]
  },
  {
   "cell_type": "markdown",
   "metadata": {},
   "source": [
    "What makes variables especially useful is that they can be used in mathematical expressions.  The code below implements the traditional quadratic formula, an algorithm for computing the roots of a general quadratic polynomial.  Try various combinations of a, b, and c, but in particular try these:\n",
    " - (1, -2, 1) - repeated roots\n",
    " - (1, -4, 3) - distinct roots\n",
    " - (1, -4, 5) - complex roots -- notice that Python uses j as the complex number i = $\\sqrt{-1}$.\n",
    " - (1, -1.0E9, 1) - wrong answers!\n",
    " \n",
    "Wrong answers?  Indeed!  If 0.0 is really a root, then 1*(0.0)&ast;&ast;2 - 1.0E9&ast;(0.0) + 1  = 0.  Or 1 = 0.  Which is nothing but wrong.  As usual, we'll put off the explanation for that tutorial on floating point computing in the future.  For now, just remember that <u>not everything a computer tells you is necessarily true</u>.\n",
    "\n",
    "Even when the answers are correct they may natuarlly be chaotic.  Try the following combinations of a, b, and c:\n",
    " - (1, -2, 1)\n",
    " - (1, -2, 0.999999) &nbsp; &nbsp; &nbsp; or (1, -2, 1 - 1e-6)\n",
    " \n",
    "Notice that when just one coefficient is perturbed by one part in a million, the roots change by one part in a thousand -- the effect on the result is a thousand times larger than the perturbation of the input.  Part of the art and science of numerical analysis is to better predict when an answer may be chaotic and when it may be wrong.\n"
   ]
  },
  {
   "cell_type": "code",
   "execution_count": null,
   "metadata": {},
   "outputs": [],
   "source": [
    "# Set the values of coefficients a, b, and c to compute the roots of\n",
    "# the quadratic polynomial a * x**2 + b * x + c = 0\n",
    "\n",
    "a =  1\n",
    "b = -2\n",
    "c =  1\n",
    "\n",
    "discriminant = b**2 - 4*a*c\n",
    "print (\"The discriminant is\", discriminant)\n",
    "print ()\n",
    "\n",
    "root1 = ( -b + discriminant**(1/2) ) / (2*a)\n",
    "root2 = ( -b - discriminant**(1/2) ) / (2*a)\n",
    "\n",
    "print (\"The roots are:\", root1, \"and\", root2)\n",
    "\n",
    "# Always check!\n",
    "print ()\n",
    "print(\"check 1 (should approximately equal 0):  \", a*root1**2 + b*root1 + c)\n",
    "print(\"check 2 (should approximately equal 0):  \", a*root2**2 + b*root2 + c)"
   ]
  },
  {
   "cell_type": "markdown",
   "metadata": {},
   "source": [
    "Now the value of code should be clear.  If we only wanted the roots of one quadratic polynomial for a homework assignment it would probably be faster to compute it by hand.  For computing the roots of multiple quadratics, however, it may be faster to write code, verify the code, and rapidly compute the answers you need.  Further, the code remains available to reuse again and again in the future (as long as you can find it when needed -- hence the need for good filenames and useful comments in code)."
   ]
  },
  {
   "cell_type": "code",
   "execution_count": null,
   "metadata": {},
   "outputs": [],
   "source": []
  }
 ],
 "metadata": {
  "kernelspec": {
   "display_name": "Python 3",
   "language": "python",
   "name": "python3"
  },
  "language_info": {
   "codemirror_mode": {
    "name": "ipython",
    "version": 3
   },
   "file_extension": ".py",
   "mimetype": "text/x-python",
   "name": "python",
   "nbconvert_exporter": "python",
   "pygments_lexer": "ipython3",
   "version": "3.8.3"
  }
 },
 "nbformat": 4,
 "nbformat_minor": 2
}
