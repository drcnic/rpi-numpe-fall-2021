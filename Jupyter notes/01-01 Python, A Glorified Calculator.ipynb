{
 "cells": [
  {
   "cell_type": "markdown",
   "metadata": {},
   "source": [
    "## 1.1:  Python, a Glorified Calculator"
   ]
  },
  {
   "cell_type": "markdown",
   "metadata": {},
   "source": [
    "Numbers in Python can be written as <i>integers</i> or <i>reals</i> (also called <i>floats</i>).  Reals/floats are indicated using a decimal point (the North American convention, as opposed to the European convention of using a comma).  You can also use <i>scientific notation</i> to indicate powers of 10, where \"E\" or \"e\" represents \"ten-to-the...\".  For example, 1.0E3 kg would be a thousand kilograms, or one Megagram.  Like a calculator, numbers in Python represent magnitudes without regard to any physical units that may go with them."
   ]
  },
  {
   "cell_type": "code",
   "execution_count": null,
   "metadata": {},
   "outputs": [],
   "source": [
    "1.0e3"
   ]
  },
  {
   "cell_type": "markdown",
   "metadata": {},
   "source": [
    "There are five arithmetic operators we will commonly use:  +, -, &ast;, /, and &ast;&ast;.\n",
    "\n",
    "\n",
    "\n",
    "Try them in the input cell below (entering the expression and clicking &#91;Run&#93; or pressing <Shift\\>+<Enter\\>)\n",
    " - add 1 and 1 (use the plus sign, \"+\", for addition, as in 1+1=2)\n",
    " - subtract 4 from 3 (use the hyphen, \"-\", for subtraction, as in 3-4=-1)\n",
    " - multiply -6 by 7 (use the astrisk, \"&ast;\", for multiplication, as in -6&ast;7=-42)\n",
    " - divide 3.14 by 2 (use the forward slash, \"/\", for division, as in 3.14/2=1.57)\n",
    " - raise a number to a power (use two consecutive astrisks, \"&ast;&ast;\", for exponentiation, as in 2&ast;&ast;3=8)"
   ]
  },
  {
   "cell_type": "code",
   "execution_count": null,
   "metadata": {},
   "outputs": [],
   "source": [
    "1+1"
   ]
  },
  {
   "cell_type": "markdown",
   "metadata": {},
   "source": [
    "Expressions like 1+-1=0 can be confusing.  You can use parentheses the same as in arithmetic to make things clearer:  1+(-1)=0 gives the same result.\n",
    "\n",
    "Parentheses incur no penalty.  You are encouraged to use them for their ability to increased clarity and decrease grief.\n",
    "\n",
    "Try more calculator math, including mixed expressions with multiple arithmetic operators and levels of parentheses.  Can you see any patterns about how arithmetic works in Python, and if they agree with what you remember about grade-school arithmetic?  (Do you remember \"PEMDAS\" -- Parenthesis, Exponents, Multiplication & Division, Addition & Subtraction -- the order of operations?)"
   ]
  },
  {
   "cell_type": "code",
   "execution_count": null,
   "metadata": {},
   "outputs": [],
   "source": [
    "1+-1"
   ]
  },
  {
   "cell_type": "markdown",
   "metadata": {},
   "source": [
    "Before running it, look carfully at the input cell below and see that there are parenthesis colored red.  This indicates that it is mismatched.  &#91;Run&#93; will result in a \"Syntax Error\", which means that a character or characters are misplaced and prevent the line of code from making sense.  The caret (^) indicates where it thinks the syntax error is occurring:  in this case, at the first unmatched parenthesis.\n",
    "\n",
    "Note that the error will direct you to only the first mismatched parenthesis (left to right).  Python will generally indicate only one error at a time.\n",
    "\n",
    "This is in contrast to compiled code which will look for every error it can during compilation.  In Python it is better to execute code frequently as you write it to check that it works as intended.  This means thinking about how to test your code as you develop it -- a theme we will return to often in this course."
   ]
  },
  {
   "cell_type": "code",
   "execution_count": null,
   "metadata": {},
   "outputs": [],
   "source": [
    "(1))+(-1))"
   ]
  },
  {
   "cell_type": "markdown",
   "metadata": {},
   "source": [
    "### 1.1.1 Python Addition"
   ]
  },
  {
   "cell_type": "markdown",
   "metadata": {},
   "source": [
    "Addition works just like you would expect, though the answer 1.1 + 2.2 = 3.3000000000000003 may not  be quite what you expect.  (By the way, it will likely be hard for you to easily find another example like this.  For example, even 1.11 + 2.22 = 3.33 as expected).\n",
    "\n",
    "Addition, and subtraction, are evaluated from left to right, so that 1+2+3+4 is evaluated as (((1+2)+3)+4).  Similarly, 1-2+3 is evaluated as (1-2)+3 = 2, and not 1-(2+3) = -4.\n",
    "\n",
    "Note that you can put spaces into arithmetic expressions for clarity.  But you can't put spaces (or commas) into numbers themselves:\n",
    " 1.1 + 2.2 + 2 000 000.0 will give you an error, and\n",
    " 1.1 + 2.2 + 2,000,000.0 will give you something quite different.  (Try it, but don't dwell on it.)"
   ]
  },
  {
   "cell_type": "code",
   "execution_count": null,
   "metadata": {},
   "outputs": [],
   "source": [
    "1.1 + 2.2"
   ]
  },
  {
   "cell_type": "markdown",
   "metadata": {},
   "source": [
    "### 1.1.2 Python Subtraction"
   ]
  },
  {
   "cell_type": "markdown",
   "metadata": {},
   "source": [
    "The hyphen has two roles in Python:\n",
    "    1) it operates on one number to make it negative; and\n",
    "    2) it operates on two numbers to subtract the second from the first.\n",
    "\n",
    "Things that operate on one number, like the negation sign \"-\", are called <i>unary</i> operators; operators for two numbers are <i>binary</i> operators. The things operated on are called <i>arguments</i>.  (We'll see later that arguments don't have to be numbers.)\n",
    "\n",
    "This comes from the mathematics of functional analysis, where the operators could be considered functions.  For example, addition could be written using an addition function like so:  add(5,7) = 12.  The input to this binary function are the two arguments 5 and 7.  The plus sign is then just a convenient shorthand symbol, as is the minus sign.  Except that someone decided to use the same shorthand symbol for both the negative(3) function and the subtract(6,9) function and now we have to live with it.\n",
    "\n",
    "Just as 1.1 + 2.2 gave us something very close to but not exactly 3.3, subtraction can also give little surprises.  Unfortunately, as we will see from time to time in this course, little surprises can sometimes have big consequences.  If we're doing a thermodynamics problem and 0.1 + 0.1 + 0.1 - 0.3 = 0 tells us that conservation of energy is true, what are we to make of a result that suggests it is not true, even if by a tiny bit?\n",
    "\n",
    "To borrow a phrase from statistician George Box:  all numbers are wrong, but some are useful."
   ]
  },
  {
   "cell_type": "code",
   "execution_count": null,
   "metadata": {},
   "outputs": [],
   "source": [
    "0.1 + 0.1 + 0.1  -  0.3"
   ]
  },
  {
   "cell_type": "markdown",
   "metadata": {},
   "source": [
    "### 1.1.3 Python Multiplication"
   ]
  },
  {
   "cell_type": "markdown",
   "metadata": {},
   "source": [
    "Multiplication, and division, are evaluated from left to right so that $2\\,/\\,4*3 = \\left( \\dfrac{2}{4} \\right) \\left( 3 \\right) = 1.5$.  Note that multiplication must be explict:  you must include the multiplication sign, &ast;. If you enter (4)(3) you will not get anything like 12.\n",
    "\n",
    "\n"
   ]
  },
  {
   "cell_type": "code",
   "execution_count": null,
   "metadata": {},
   "outputs": [],
   "source": [
    "2/4*3"
   ]
  },
  {
   "cell_type": "markdown",
   "metadata": {},
   "source": [
    "### 1.1.4 Python Division"
   ]
  },
  {
   "cell_type": "markdown",
   "metadata": {},
   "source": [
    "Division in Python is nothing unusual.  Sometimes it works as expected (1/3 + 1/3 + 1/3 does equal 1.0, and not 0.999999...).\n",
    "\n",
    "And sometimes it's just close.  Try (successively)\n",
    " - 1.2E-3 / 1\n",
    " - 1.2E-3 / 10\n",
    " - 1.2E-3 / 100\n",
    "\n",
    "and observe how Python decides itself how to display the numbers -- sometimes in scientific notation, and sometimes not, with varying numbers of digits shown."
   ]
  },
  {
   "cell_type": "code",
   "execution_count": null,
   "metadata": {},
   "outputs": [],
   "source": [
    "1.2e-3 / 1"
   ]
  },
  {
   "cell_type": "markdown",
   "metadata": {},
   "source": [
    "### 1.1.5 Python Exponentiation"
   ]
  },
  {
   "cell_type": "markdown",
   "metadata": {},
   "source": [
    "Mathematically, exponentiation is algebraic not arithmetic.  But it is called arithmetic in most programming contexts so we'll stick with the conventional terminology.\n",
    "\n",
    "Unlike the binary operators above, exponentiation is performed from right to left.  Thus 2&ast;&ast;3&ast;&ast;2 = 2&ast;&ast;(3&ast;&ast;2) = 2&ast;&ast;9 = 512 (and not 64).\n",
    "\n",
    "You can also compute reciprocals like 2&ast;&ast;(-1), square roots like 2&ast;&ast;(1/2), and long-form scientific notation like 2.0&ast;10&ast;&ast;3 (though 2.0e3 is often more readable after you use the notation for a while, and definitely more efficient computationally).\n",
    "\n",
    "For fun, see what a big number like a googol looks like:  10&ast;&ast;100.  That's one with a hunderd zeros after it.  But please think twice before you try to compute a googolplex:  there are not enough electrons in the known universe to store the number.  So just don't.\n",
    "\n",
    "(Yes, the number is spelled googol.  The founders of a similar-sounding company didn't think to look in a dictionary before registering their internet domain name.)"
   ]
  },
  {
   "cell_type": "code",
   "execution_count": null,
   "metadata": {},
   "outputs": [],
   "source": [
    "2**3**2"
   ]
  },
  {
   "cell_type": "markdown",
   "metadata": {},
   "source": [
    "### 1.1.6 Parenthesis Revisited, and that Decimal Point"
   ]
  },
  {
   "cell_type": "markdown",
   "metadata": {},
   "source": [
    "See how quickly you can figure out in your head what value the following expressions will result in (and then try them):<br />\n",
    "(4&ast;4)&ast;&ast;(-1/2) &nbsp;&nbsp; versus &nbsp;&nbsp; 4&ast;4&ast;&ast;(-1/2) &nbsp;&nbsp; versus &nbsp;&nbsp; (4&ast;4)&ast;&ast;-1/2 &nbsp;&nbsp; versus &nbsp;&nbsp; 4&ast;4&ast;&ast;-1/2\n",
    "\n",
    "Now try these:<br />\n",
    "4&ast;(-4&ast;&ast;2) &nbsp;&nbsp; versus &nbsp;&nbsp; 4&ast;-(4&ast;&ast;2) &nbsp;&nbsp; versus &nbsp;&nbsp; 4&ast;-4&ast;&ast;2"
   ]
  },
  {
   "cell_type": "code",
   "execution_count": null,
   "metadata": {},
   "outputs": [],
   "source": [
    "(4*4)**(-1/2)"
   ]
  },
  {
   "cell_type": "markdown",
   "metadata": {},
   "source": [
    "A best practice in programming is to make your code as readable as possible &mdash; for you, and for anyone else who may have to work with your code.  You can try to memorize all of the operator precedence rules, or you can just use paretheses and make it clear to everyone.\n",
    "\n",
    "By the way, depending on where in the world you're from those enclosing punctuation marks are called different things:<br />\n",
    "&nbsp; &#40; &#41; &ndash; parenthesis (US) or brackets (UK)<br />\n",
    "&nbsp; &#91; &#93; &ndash; brackets (US) or square brackets (UK)<br />\n",
    "&nbsp; &#123; &#125; &ndash; braces (US) or curly brackets (UK)<br />\n",
    "The term \"parenthesis\" for &#40; &#41; is actually common in the UK these days, but take care when abroad.  Note that parenthesis does have the plural parentheses, but the singular parenthesis can mean (, or ), or both () symbols used together.\n",
    "\n",
    "And then there's the use of the decimal point.  In the US and UK it is indeed a point, and the thousands separator is a comma (1,234.5).  But in most of the rest of Europe they use a decimal comma, and a point for a thousands separator (1.234,5).  And then there's Switzerland and Lichtenstein that use a decimal point, and an apostrophe for a thousands separator (1'234.5).  Globalization has convinced much of the world to use a blank space as a thousands separator, with the option of using a decimal comma or a decimal point (1 234,5 or 1 234.5).\n",
    "\n",
    "Just remember that in Python you must use a decimal point, and you may not use any kind of thousands separator in your numbers.\n"
   ]
  },
  {
   "cell_type": "code",
   "execution_count": null,
   "metadata": {},
   "outputs": [],
   "source": []
  }
 ],
 "metadata": {
  "kernelspec": {
   "display_name": "Python 3",
   "language": "python",
   "name": "python3"
  },
  "language_info": {
   "codemirror_mode": {
    "name": "ipython",
    "version": 3
   },
   "file_extension": ".py",
   "mimetype": "text/x-python",
   "name": "python",
   "nbconvert_exporter": "python",
   "pygments_lexer": "ipython3",
   "version": "3.8.3"
  }
 },
 "nbformat": 4,
 "nbformat_minor": 2
}
